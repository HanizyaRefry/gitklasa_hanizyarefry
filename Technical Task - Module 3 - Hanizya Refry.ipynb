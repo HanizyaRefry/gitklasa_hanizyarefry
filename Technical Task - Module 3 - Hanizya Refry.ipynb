{
 "cells": [
  {
   "cell_type": "code",
   "execution_count": 52,
   "id": "1a4c2abc-3ca0-4576-8398-acf20f87cb0a",
   "metadata": {},
   "outputs": [
    {
     "name": "stdout",
     "output_type": "stream",
     "text": [
      "1.3.4\n"
     ]
    }
   ],
   "source": [
    "import math\n",
    "import pandas as pd\n",
    "import numpy as np\n",
    "import seaborn as sns\n",
    "\n",
    "from matplotlib import pyplot\n",
    "from sklearn.datasets import load_diabetes\n",
    "print(pd.__version__)"
   ]
  },
  {
   "cell_type": "code",
   "execution_count": 53,
   "id": "95fbb331-baf2-40ef-8737-3af53afa1d4a",
   "metadata": {},
   "outputs": [],
   "source": [
    "diabet = load_diabetes(as_frame=True)"
   ]
  },
  {
   "cell_type": "code",
   "execution_count": 54,
   "id": "cd33cc34-1ce7-427e-a27b-b5b5b3d289db",
   "metadata": {},
   "outputs": [
    {
     "name": "stdout",
     "output_type": "stream",
     "text": [
      ".. _diabetes_dataset:\n",
      "\n",
      "Diabetes dataset\n",
      "----------------\n",
      "\n",
      "Ten baseline variables, age, sex, body mass index, average blood\n",
      "pressure, and six blood serum measurements were obtained for each of n =\n",
      "442 diabetes patients, as well as the response of interest, a\n",
      "quantitative measure of disease progression one year after baseline.\n",
      "\n",
      "**Data Set Characteristics:**\n",
      "\n",
      "  :Number of Instances: 442\n",
      "\n",
      "  :Number of Attributes: First 10 columns are numeric predictive values\n",
      "\n",
      "  :Target: Column 11 is a quantitative measure of disease progression one year after baseline\n",
      "\n",
      "  :Attribute Information:\n",
      "      - age     age in years\n",
      "      - sex\n",
      "      - bmi     body mass index\n",
      "      - bp      average blood pressure\n",
      "      - s1      tc, total serum cholesterol\n",
      "      - s2      ldl, low-density lipoproteins\n",
      "      - s3      hdl, high-density lipoproteins\n",
      "      - s4      tch, total cholesterol / HDL\n",
      "      - s5      ltg, possibly log of serum triglycerides level\n",
      "      - s6      glu, blood sugar level\n",
      "\n",
      "Note: Each of these 10 feature variables have been mean centered and scaled by the standard deviation times `n_samples` (i.e. the sum of squares of each column totals 1).\n",
      "\n",
      "Source URL:\n",
      "https://www4.stat.ncsu.edu/~boos/var.select/diabetes.html\n",
      "\n",
      "For more information see:\n",
      "Bradley Efron, Trevor Hastie, Iain Johnstone and Robert Tibshirani (2004) \"Least Angle Regression,\" Annals of Statistics (with discussion), 407-499.\n",
      "(https://web.stanford.edu/~hastie/Papers/LARS/LeastAngle_2002.pdf)\n"
     ]
    }
   ],
   "source": [
    "print(diabet.DESCR)"
   ]
  },
  {
   "cell_type": "code",
   "execution_count": 55,
   "id": "c6e47e13-028a-447b-a08d-3fffc1e584b4",
   "metadata": {},
   "outputs": [],
   "source": [
    "diabet = pd.concat([diabet.data, diabet.target], axis=1, join='inner')"
   ]
  },
  {
   "cell_type": "code",
   "execution_count": 56,
   "id": "7314a62b-0b21-4b4b-8e76-e4c5587ac974",
   "metadata": {},
   "outputs": [
    {
     "data": {
      "text/html": [
       "<div>\n",
       "<style scoped>\n",
       "    .dataframe tbody tr th:only-of-type {\n",
       "        vertical-align: middle;\n",
       "    }\n",
       "\n",
       "    .dataframe tbody tr th {\n",
       "        vertical-align: top;\n",
       "    }\n",
       "\n",
       "    .dataframe thead th {\n",
       "        text-align: right;\n",
       "    }\n",
       "</style>\n",
       "<table border=\"1\" class=\"dataframe\">\n",
       "  <thead>\n",
       "    <tr style=\"text-align: right;\">\n",
       "      <th></th>\n",
       "      <th>age</th>\n",
       "      <th>sex</th>\n",
       "      <th>bmi</th>\n",
       "      <th>bp</th>\n",
       "      <th>s1</th>\n",
       "      <th>s2</th>\n",
       "      <th>s3</th>\n",
       "      <th>s4</th>\n",
       "      <th>s5</th>\n",
       "      <th>s6</th>\n",
       "      <th>target</th>\n",
       "    </tr>\n",
       "  </thead>\n",
       "  <tbody>\n",
       "    <tr>\n",
       "      <th>0</th>\n",
       "      <td>0.038076</td>\n",
       "      <td>0.050680</td>\n",
       "      <td>0.061696</td>\n",
       "      <td>0.021872</td>\n",
       "      <td>-0.044223</td>\n",
       "      <td>-0.034821</td>\n",
       "      <td>-0.043401</td>\n",
       "      <td>-0.002592</td>\n",
       "      <td>0.019908</td>\n",
       "      <td>-0.017646</td>\n",
       "      <td>151.0</td>\n",
       "    </tr>\n",
       "    <tr>\n",
       "      <th>1</th>\n",
       "      <td>-0.001882</td>\n",
       "      <td>-0.044642</td>\n",
       "      <td>-0.051474</td>\n",
       "      <td>-0.026328</td>\n",
       "      <td>-0.008449</td>\n",
       "      <td>-0.019163</td>\n",
       "      <td>0.074412</td>\n",
       "      <td>-0.039493</td>\n",
       "      <td>-0.068330</td>\n",
       "      <td>-0.092204</td>\n",
       "      <td>75.0</td>\n",
       "    </tr>\n",
       "    <tr>\n",
       "      <th>2</th>\n",
       "      <td>0.085299</td>\n",
       "      <td>0.050680</td>\n",
       "      <td>0.044451</td>\n",
       "      <td>-0.005671</td>\n",
       "      <td>-0.045599</td>\n",
       "      <td>-0.034194</td>\n",
       "      <td>-0.032356</td>\n",
       "      <td>-0.002592</td>\n",
       "      <td>0.002864</td>\n",
       "      <td>-0.025930</td>\n",
       "      <td>141.0</td>\n",
       "    </tr>\n",
       "    <tr>\n",
       "      <th>3</th>\n",
       "      <td>-0.089063</td>\n",
       "      <td>-0.044642</td>\n",
       "      <td>-0.011595</td>\n",
       "      <td>-0.036656</td>\n",
       "      <td>0.012191</td>\n",
       "      <td>0.024991</td>\n",
       "      <td>-0.036038</td>\n",
       "      <td>0.034309</td>\n",
       "      <td>0.022692</td>\n",
       "      <td>-0.009362</td>\n",
       "      <td>206.0</td>\n",
       "    </tr>\n",
       "    <tr>\n",
       "      <th>4</th>\n",
       "      <td>0.005383</td>\n",
       "      <td>-0.044642</td>\n",
       "      <td>-0.036385</td>\n",
       "      <td>0.021872</td>\n",
       "      <td>0.003935</td>\n",
       "      <td>0.015596</td>\n",
       "      <td>0.008142</td>\n",
       "      <td>-0.002592</td>\n",
       "      <td>-0.031991</td>\n",
       "      <td>-0.046641</td>\n",
       "      <td>135.0</td>\n",
       "    </tr>\n",
       "  </tbody>\n",
       "</table>\n",
       "</div>"
      ],
      "text/plain": [
       "        age       sex       bmi        bp        s1        s2        s3  \\\n",
       "0  0.038076  0.050680  0.061696  0.021872 -0.044223 -0.034821 -0.043401   \n",
       "1 -0.001882 -0.044642 -0.051474 -0.026328 -0.008449 -0.019163  0.074412   \n",
       "2  0.085299  0.050680  0.044451 -0.005671 -0.045599 -0.034194 -0.032356   \n",
       "3 -0.089063 -0.044642 -0.011595 -0.036656  0.012191  0.024991 -0.036038   \n",
       "4  0.005383 -0.044642 -0.036385  0.021872  0.003935  0.015596  0.008142   \n",
       "\n",
       "         s4        s5        s6  target  \n",
       "0 -0.002592  0.019908 -0.017646   151.0  \n",
       "1 -0.039493 -0.068330 -0.092204    75.0  \n",
       "2 -0.002592  0.002864 -0.025930   141.0  \n",
       "3  0.034309  0.022692 -0.009362   206.0  \n",
       "4 -0.002592 -0.031991 -0.046641   135.0  "
      ]
     },
     "execution_count": 56,
     "metadata": {},
     "output_type": "execute_result"
    }
   ],
   "source": [
    "diabet.head()"
   ]
  },
  {
   "cell_type": "code",
   "execution_count": 57,
   "id": "bcab6385-64aa-4e86-8ee2-1e2b42afb215",
   "metadata": {},
   "outputs": [
    {
     "data": {
      "text/html": [
       "<div>\n",
       "<style scoped>\n",
       "    .dataframe tbody tr th:only-of-type {\n",
       "        vertical-align: middle;\n",
       "    }\n",
       "\n",
       "    .dataframe tbody tr th {\n",
       "        vertical-align: top;\n",
       "    }\n",
       "\n",
       "    .dataframe thead th {\n",
       "        text-align: right;\n",
       "    }\n",
       "</style>\n",
       "<table border=\"1\" class=\"dataframe\">\n",
       "  <thead>\n",
       "    <tr style=\"text-align: right;\">\n",
       "      <th></th>\n",
       "      <th>age</th>\n",
       "      <th>sex</th>\n",
       "      <th>bmi</th>\n",
       "      <th>bp</th>\n",
       "      <th>s1</th>\n",
       "      <th>s2</th>\n",
       "      <th>s3</th>\n",
       "      <th>s4</th>\n",
       "      <th>s5</th>\n",
       "      <th>s6</th>\n",
       "      <th>target</th>\n",
       "    </tr>\n",
       "  </thead>\n",
       "  <tbody>\n",
       "    <tr>\n",
       "      <th>count</th>\n",
       "      <td>4.420000e+02</td>\n",
       "      <td>4.420000e+02</td>\n",
       "      <td>4.420000e+02</td>\n",
       "      <td>4.420000e+02</td>\n",
       "      <td>4.420000e+02</td>\n",
       "      <td>4.420000e+02</td>\n",
       "      <td>4.420000e+02</td>\n",
       "      <td>4.420000e+02</td>\n",
       "      <td>4.420000e+02</td>\n",
       "      <td>4.420000e+02</td>\n",
       "      <td>442.000000</td>\n",
       "    </tr>\n",
       "    <tr>\n",
       "      <th>mean</th>\n",
       "      <td>-3.634285e-16</td>\n",
       "      <td>1.308343e-16</td>\n",
       "      <td>-8.045349e-16</td>\n",
       "      <td>1.281655e-16</td>\n",
       "      <td>-8.835316e-17</td>\n",
       "      <td>1.327024e-16</td>\n",
       "      <td>-4.574646e-16</td>\n",
       "      <td>3.777301e-16</td>\n",
       "      <td>-3.830854e-16</td>\n",
       "      <td>-3.412882e-16</td>\n",
       "      <td>152.133484</td>\n",
       "    </tr>\n",
       "    <tr>\n",
       "      <th>std</th>\n",
       "      <td>4.761905e-02</td>\n",
       "      <td>4.761905e-02</td>\n",
       "      <td>4.761905e-02</td>\n",
       "      <td>4.761905e-02</td>\n",
       "      <td>4.761905e-02</td>\n",
       "      <td>4.761905e-02</td>\n",
       "      <td>4.761905e-02</td>\n",
       "      <td>4.761905e-02</td>\n",
       "      <td>4.761905e-02</td>\n",
       "      <td>4.761905e-02</td>\n",
       "      <td>77.093005</td>\n",
       "    </tr>\n",
       "    <tr>\n",
       "      <th>min</th>\n",
       "      <td>-1.072256e-01</td>\n",
       "      <td>-4.464164e-02</td>\n",
       "      <td>-9.027530e-02</td>\n",
       "      <td>-1.123996e-01</td>\n",
       "      <td>-1.267807e-01</td>\n",
       "      <td>-1.156131e-01</td>\n",
       "      <td>-1.023071e-01</td>\n",
       "      <td>-7.639450e-02</td>\n",
       "      <td>-1.260974e-01</td>\n",
       "      <td>-1.377672e-01</td>\n",
       "      <td>25.000000</td>\n",
       "    </tr>\n",
       "    <tr>\n",
       "      <th>25%</th>\n",
       "      <td>-3.729927e-02</td>\n",
       "      <td>-4.464164e-02</td>\n",
       "      <td>-3.422907e-02</td>\n",
       "      <td>-3.665645e-02</td>\n",
       "      <td>-3.424784e-02</td>\n",
       "      <td>-3.035840e-02</td>\n",
       "      <td>-3.511716e-02</td>\n",
       "      <td>-3.949338e-02</td>\n",
       "      <td>-3.324879e-02</td>\n",
       "      <td>-3.317903e-02</td>\n",
       "      <td>87.000000</td>\n",
       "    </tr>\n",
       "    <tr>\n",
       "      <th>50%</th>\n",
       "      <td>5.383060e-03</td>\n",
       "      <td>-4.464164e-02</td>\n",
       "      <td>-7.283766e-03</td>\n",
       "      <td>-5.670611e-03</td>\n",
       "      <td>-4.320866e-03</td>\n",
       "      <td>-3.819065e-03</td>\n",
       "      <td>-6.584468e-03</td>\n",
       "      <td>-2.592262e-03</td>\n",
       "      <td>-1.947634e-03</td>\n",
       "      <td>-1.077698e-03</td>\n",
       "      <td>140.500000</td>\n",
       "    </tr>\n",
       "    <tr>\n",
       "      <th>75%</th>\n",
       "      <td>3.807591e-02</td>\n",
       "      <td>5.068012e-02</td>\n",
       "      <td>3.124802e-02</td>\n",
       "      <td>3.564384e-02</td>\n",
       "      <td>2.835801e-02</td>\n",
       "      <td>2.984439e-02</td>\n",
       "      <td>2.931150e-02</td>\n",
       "      <td>3.430886e-02</td>\n",
       "      <td>3.243323e-02</td>\n",
       "      <td>2.791705e-02</td>\n",
       "      <td>211.500000</td>\n",
       "    </tr>\n",
       "    <tr>\n",
       "      <th>max</th>\n",
       "      <td>1.107267e-01</td>\n",
       "      <td>5.068012e-02</td>\n",
       "      <td>1.705552e-01</td>\n",
       "      <td>1.320442e-01</td>\n",
       "      <td>1.539137e-01</td>\n",
       "      <td>1.987880e-01</td>\n",
       "      <td>1.811791e-01</td>\n",
       "      <td>1.852344e-01</td>\n",
       "      <td>1.335990e-01</td>\n",
       "      <td>1.356118e-01</td>\n",
       "      <td>346.000000</td>\n",
       "    </tr>\n",
       "  </tbody>\n",
       "</table>\n",
       "</div>"
      ],
      "text/plain": [
       "                age           sex           bmi            bp            s1  \\\n",
       "count  4.420000e+02  4.420000e+02  4.420000e+02  4.420000e+02  4.420000e+02   \n",
       "mean  -3.634285e-16  1.308343e-16 -8.045349e-16  1.281655e-16 -8.835316e-17   \n",
       "std    4.761905e-02  4.761905e-02  4.761905e-02  4.761905e-02  4.761905e-02   \n",
       "min   -1.072256e-01 -4.464164e-02 -9.027530e-02 -1.123996e-01 -1.267807e-01   \n",
       "25%   -3.729927e-02 -4.464164e-02 -3.422907e-02 -3.665645e-02 -3.424784e-02   \n",
       "50%    5.383060e-03 -4.464164e-02 -7.283766e-03 -5.670611e-03 -4.320866e-03   \n",
       "75%    3.807591e-02  5.068012e-02  3.124802e-02  3.564384e-02  2.835801e-02   \n",
       "max    1.107267e-01  5.068012e-02  1.705552e-01  1.320442e-01  1.539137e-01   \n",
       "\n",
       "                 s2            s3            s4            s5            s6  \\\n",
       "count  4.420000e+02  4.420000e+02  4.420000e+02  4.420000e+02  4.420000e+02   \n",
       "mean   1.327024e-16 -4.574646e-16  3.777301e-16 -3.830854e-16 -3.412882e-16   \n",
       "std    4.761905e-02  4.761905e-02  4.761905e-02  4.761905e-02  4.761905e-02   \n",
       "min   -1.156131e-01 -1.023071e-01 -7.639450e-02 -1.260974e-01 -1.377672e-01   \n",
       "25%   -3.035840e-02 -3.511716e-02 -3.949338e-02 -3.324879e-02 -3.317903e-02   \n",
       "50%   -3.819065e-03 -6.584468e-03 -2.592262e-03 -1.947634e-03 -1.077698e-03   \n",
       "75%    2.984439e-02  2.931150e-02  3.430886e-02  3.243323e-02  2.791705e-02   \n",
       "max    1.987880e-01  1.811791e-01  1.852344e-01  1.335990e-01  1.356118e-01   \n",
       "\n",
       "           target  \n",
       "count  442.000000  \n",
       "mean   152.133484  \n",
       "std     77.093005  \n",
       "min     25.000000  \n",
       "25%     87.000000  \n",
       "50%    140.500000  \n",
       "75%    211.500000  \n",
       "max    346.000000  "
      ]
     },
     "execution_count": 57,
     "metadata": {},
     "output_type": "execute_result"
    }
   ],
   "source": [
    "diabet.describe()"
   ]
  },
  {
   "cell_type": "code",
   "execution_count": 58,
   "id": "0ae0b31d-fff0-40c5-9b5e-f7c1c7caa85f",
   "metadata": {},
   "outputs": [
    {
     "data": {
      "text/plain": [
       "<AxesSubplot:>"
      ]
     },
     "execution_count": 58,
     "metadata": {},
     "output_type": "execute_result"
    },
    {
     "data": {
      "image/png": "[encoded data removed]",
      "text/plain": [
       "<Figure size 432x288 with 1 Axes>"
      ]
     },
     "metadata": {
      "needs_background": "light"
     },
     "output_type": "display_data"
    }
   ],
   "source": [
    "diabet['target'].hist()\n",
    "#from the histogram of the target data below, we can see that there is a rather 'left skewed' distribution on the data."
   ]
  },
  {
   "cell_type": "code",
   "execution_count": 59,
   "id": "bfbf42d5-f827-4155-be67-cc5bc448b4ef",
   "metadata": {},
   "outputs": [],
   "source": [
    "# bmi effect on diabetes progression, age effect on diabetes progression, age and blood sugar, bmi and sugar level, blood sugar and progression\n",
    "\n",
    "# Given the objective: “What are the factors that contribute to the disease progression of a diabetes patient?”, we will explore 5 questions/assumption \n",
    "#     points using the data to observe the relationships between calculated factors and the progressions of diabetes in patients.\n",
    "\n",
    "# Though not a fact, we would typically associate age and unhealthy lifestyle with the progressions of medical conditions in general. \n",
    "#     Along with that, Diabetes is more commonly known as a medical condition that persists due to high blood sugar. Taking into consideration these\n",
    "#     common assumptions, observation will be taken to see whether there is any relation with these factors."
   ]
  },
  {
   "cell_type": "code",
   "execution_count": 60,
   "id": "5ea94f11-31c0-4173-9916-a3a20ddeb9cd",
   "metadata": {},
   "outputs": [
    {
     "data": {
      "text/html": [
       "<div>\n",
       "<style scoped>\n",
       "    .dataframe tbody tr th:only-of-type {\n",
       "        vertical-align: middle;\n",
       "    }\n",
       "\n",
       "    .dataframe tbody tr th {\n",
       "        vertical-align: top;\n",
       "    }\n",
       "\n",
       "    .dataframe thead th {\n",
       "        text-align: right;\n",
       "    }\n",
       "</style>\n",
       "<table border=\"1\" class=\"dataframe\">\n",
       "  <thead>\n",
       "    <tr style=\"text-align: right;\">\n",
       "      <th></th>\n",
       "      <th>age</th>\n",
       "      <th>s6</th>\n",
       "    </tr>\n",
       "  </thead>\n",
       "  <tbody>\n",
       "    <tr>\n",
       "      <th>age</th>\n",
       "      <td>1.000000</td>\n",
       "      <td>0.301731</td>\n",
       "    </tr>\n",
       "    <tr>\n",
       "      <th>s6</th>\n",
       "      <td>0.301731</td>\n",
       "      <td>1.000000</td>\n",
       "    </tr>\n",
       "  </tbody>\n",
       "</table>\n",
       "</div>"
      ],
      "text/plain": [
       "          age        s6\n",
       "age  1.000000  0.301731\n",
       "s6   0.301731  1.000000"
      ]
     },
     "execution_count": 60,
     "metadata": {},
     "output_type": "execute_result"
    },
    {
     "data": {
      "image/png": "[encoded data removed]",
      "text/plain": [
       "<Figure size 432x288 with 1 Axes>"
      ]
     },
     "metadata": {
      "needs_background": "light"
     },
     "output_type": "display_data"
    }
   ],
   "source": [
    "#1\n",
    "\n",
    "# First will be looking into the relationship between age and blood sugar with the question, \"Does age effect a higher build up of blood sugar levels?\".\n",
    "\n",
    "#looking through a histogram the distribution of age in the the data\n",
    "diabet['age'].hist()\n",
    "\n",
    "#finding the correlation between age and blood sugar levels (\"s6\")\n",
    "diabet[[\"age\",\"s6\"]].corr()"
   ]
  },
  {
   "cell_type": "code",
   "execution_count": 61,
   "id": "b67968f0-206c-40a4-81be-19b68cad822a",
   "metadata": {},
   "outputs": [
    {
     "data": {
      "text/plain": [
       "<AxesSubplot:xlabel='age', ylabel='s6'>"
      ]
     },
     "execution_count": 61,
     "metadata": {},
     "output_type": "execute_result"
    },
    {
     "data": {
      "image/png": "[encoded data removed]",
      "text/plain": [
       "<Figure size 432x288 with 1 Axes>"
      ]
     },
     "metadata": {
      "needs_background": "light"
     },
     "output_type": "display_data"
    }
   ],
   "source": [
    "#creating a scatterplot to see the relationship between age and blood sugar levels (\"s6\")\n",
    "sns.regplot(data=diabet, x=\"age\", y=\"s6\", line_kws={\"color\": \"red\"})"
   ]
  },
  {
   "cell_type": "code",
   "execution_count": 62,
   "id": "f3cbacb0-2d4f-4698-bfed-06c71cc6ccbd",
   "metadata": {},
   "outputs": [],
   "source": [
    "# First of all, here we see a positive correlation which reflects that as age increases the rate of blood sugar also increases,\n",
    "#     though there is a smaller rate of increase in blood sugar levels compared to age.\n",
    "# Although we cannot conclude for sure that age has an effect to blood sugar levels, we can see that there is some correlation between the two factors. \n",
    "# Note that, to have a fuller view, there needs to be a separate study for this, since there might be other factors that effects this relationship.\n",
    "\n",
    "# Looking at the age histogram, we can see a quite normal distribution of age in the data.\n",
    "\n",
    "# Looking at the scatter plot itself, we can see that there is quite a scattered spread between age and blood sugar, and we can also see that there\n",
    "#     is a somewhat visible regression on the data. The general scatter of the plot follow a clear positive increase linear shape."
   ]
  },
  {
   "cell_type": "code",
   "execution_count": 63,
   "id": "c459f5cb-1c8d-4650-a09e-35a4485725a5",
   "metadata": {},
   "outputs": [
    {
     "data": {
      "text/html": [
       "<div>\n",
       "<style scoped>\n",
       "    .dataframe tbody tr th:only-of-type {\n",
       "        vertical-align: middle;\n",
       "    }\n",
       "\n",
       "    .dataframe tbody tr th {\n",
       "        vertical-align: top;\n",
       "    }\n",
       "\n",
       "    .dataframe thead th {\n",
       "        text-align: right;\n",
       "    }\n",
       "</style>\n",
       "<table border=\"1\" class=\"dataframe\">\n",
       "  <thead>\n",
       "    <tr style=\"text-align: right;\">\n",
       "      <th></th>\n",
       "      <th>age</th>\n",
       "      <th>target</th>\n",
       "    </tr>\n",
       "  </thead>\n",
       "  <tbody>\n",
       "    <tr>\n",
       "      <th>age</th>\n",
       "      <td>1.000000</td>\n",
       "      <td>0.187889</td>\n",
       "    </tr>\n",
       "    <tr>\n",
       "      <th>target</th>\n",
       "      <td>0.187889</td>\n",
       "      <td>1.000000</td>\n",
       "    </tr>\n",
       "  </tbody>\n",
       "</table>\n",
       "</div>"
      ],
      "text/plain": [
       "             age    target\n",
       "age     1.000000  0.187889\n",
       "target  0.187889  1.000000"
      ]
     },
     "execution_count": 63,
     "metadata": {},
     "output_type": "execute_result"
    }
   ],
   "source": [
    "#2\n",
    "\n",
    "# Following the observation on age, next will be looking into whether age has a direct relationship with the progression of the disease,\n",
    "#     with the question, \"Does the progression of diabetes increase with the increase in age?\".\n",
    "\n",
    "#looking at the direct correlation between age and disease progression (\"target\")\n",
    "diabet[[\"age\",\"target\"]].corr()"
   ]
  },
  {
   "cell_type": "code",
   "execution_count": 64,
   "id": "4a9bf0d3-1c3f-427f-a612-9dba91229b09",
   "metadata": {},
   "outputs": [
    {
     "data": {
      "text/plain": [
       "<AxesSubplot:xlabel='age', ylabel='target'>"
      ]
     },
     "execution_count": 64,
     "metadata": {},
     "output_type": "execute_result"
    },
    {
     "data": {
      "image/png": "[encoded data removed]",
      "text/plain": [
       "<Figure size 432x288 with 1 Axes>"
      ]
     },
     "metadata": {
      "needs_background": "light"
     },
     "output_type": "display_data"
    }
   ],
   "source": [
    "#creating a scatterplot to see the relationship between age and disease progression (\"target\")\n",
    "sns.regplot(data=diabet, x=\"age\", y=\"target\", line_kws={\"color\": \"red\"})"
   ]
  },
  {
   "cell_type": "code",
   "execution_count": 65,
   "id": "ac60d51b-a08b-43ec-a001-207ceeffeccc",
   "metadata": {},
   "outputs": [],
   "source": [
    "# First looking at the correlation between age and disease progression (\"target\"), it is seen that there is a positive correlation, which means that\n",
    "#     as age increases so does the disease progression. However looking at the number itself, it is much lower than the correlation between age and \n",
    "#     blood sugar (almost about a third of it).\n",
    "    \n",
    "# From an earlier histogram plot of the disease progression (\"target\"), it is known that there is a left skewed distribution on the data, meaning that\n",
    "#     there were more patients with lower progression than others. \n",
    "# This is further reflected with the scatter plot between age and disease progressions where it can be seen that there is a more concentrated \n",
    "#     amount of data below the regression line and a more scattered data above the line. \n",
    "# Also note that there is a slightly bigger error window on the line for this plot compared to the one before. \n",
    "# Another thing to note is that looking at the scatter plot it is visible that the highest datas for disease progression \n",
    "#     can be seen in various age points from left to right. \n",
    "# Through this, it can be concluded that there isn't a big significance in the relationship between age and disease progression."
   ]
  },
  {
   "cell_type": "code",
   "execution_count": 66,
   "id": "84e699e9-9209-4bc6-81a9-07d90de238bd",
   "metadata": {},
   "outputs": [
    {
     "data": {
      "text/html": [
       "<div>\n",
       "<style scoped>\n",
       "    .dataframe tbody tr th:only-of-type {\n",
       "        vertical-align: middle;\n",
       "    }\n",
       "\n",
       "    .dataframe tbody tr th {\n",
       "        vertical-align: top;\n",
       "    }\n",
       "\n",
       "    .dataframe thead th {\n",
       "        text-align: right;\n",
       "    }\n",
       "</style>\n",
       "<table border=\"1\" class=\"dataframe\">\n",
       "  <thead>\n",
       "    <tr style=\"text-align: right;\">\n",
       "      <th></th>\n",
       "      <th>bmi</th>\n",
       "      <th>s6</th>\n",
       "    </tr>\n",
       "  </thead>\n",
       "  <tbody>\n",
       "    <tr>\n",
       "      <th>bmi</th>\n",
       "      <td>1.00000</td>\n",
       "      <td>0.38868</td>\n",
       "    </tr>\n",
       "    <tr>\n",
       "      <th>s6</th>\n",
       "      <td>0.38868</td>\n",
       "      <td>1.00000</td>\n",
       "    </tr>\n",
       "  </tbody>\n",
       "</table>\n",
       "</div>"
      ],
      "text/plain": [
       "         bmi       s6\n",
       "bmi  1.00000  0.38868\n",
       "s6   0.38868  1.00000"
      ]
     },
     "execution_count": 66,
     "metadata": {},
     "output_type": "execute_result"
    },
    {
     "data": {
      "image/png": "[encoded data removed]",
      "text/plain": [
       "<Figure size 432x288 with 1 Axes>"
      ]
     },
     "metadata": {
      "needs_background": "light"
     },
     "output_type": "display_data"
    }
   ],
   "source": [
    "#3\n",
    "\n",
    "# Next will be looking into the relationship between bmi and blood sugar with the question, \"Does bmi effect a higher build up of blood sugar levels?\".\n",
    "\n",
    "#looking through a histogram the distribution of bmi in the the data\n",
    "diabet['bmi'].hist()\n",
    "\n",
    "#finding the correlation between bmi and blood sugar levels (\"s6\")\n",
    "diabet[[\"bmi\",\"s6\"]].corr()"
   ]
  },
  {
   "cell_type": "code",
   "execution_count": 67,
   "id": "6fe1c73e-8096-4858-a58f-a67e77ebbdd9",
   "metadata": {},
   "outputs": [
    {
     "data": {
      "text/plain": [
       "<AxesSubplot:xlabel='bmi', ylabel='s6'>"
      ]
     },
     "execution_count": 67,
     "metadata": {},
     "output_type": "execute_result"
    },
    {
     "data": {
      "image/png": "[encoded data removed]",
      "text/plain": [
       "<Figure size 432x288 with 1 Axes>"
      ]
     },
     "metadata": {
      "needs_background": "light"
     },
     "output_type": "display_data"
    }
   ],
   "source": [
    "#creating a scatterplot to see the relationship between bmi and blood sugar levels (\"s6\")\n",
    "sns.regplot(data=diabet, x=\"bmi\", y=\"s6\", line_kws={\"color\": \"red\"})"
   ]
  },
  {
   "cell_type": "code",
   "execution_count": 68,
   "id": "4503746f-f35b-40e9-9a4e-3d10d44acfdd",
   "metadata": {},
   "outputs": [],
   "source": [
    "# First of all, here we see a positive correlation which reflects that as bmi increases the rate of blood sugar also increases.\n",
    "# Though there is a smaller rate of increase in blood sugar levels compared to bmi, we can also see that the correlation between bmi and blood sugar\n",
    "#        levels is slightly higher to the correlation between age and blood sugar levels.\n",
    "# Although we cannot conclude for sure that bmi has an effect to blood sugar levels, we can see that there is some correlation between the two factors. \n",
    "# Note that, to have a fuller view, there needs to be a separate study for this, since there might be other factors that effects this relationship.\n",
    "\n",
    "# Looking at the bmi histogram, we can see that there is a left skew on the distribution of bmi data in the dataframe.\n",
    "\n",
    "# We can further see this in the scatter plot where majority of the data is distributed in the left quadrant of the plot. Although it does have a\n",
    "#     linear regressional shape, the error of the linear line gets slightly bigger as the number of the bmi data increases. \n",
    "# Therefore, although it is visually accepted that there is a positive linear relationship between bmi and blood sugar level, \n",
    "#     it is still imprecise conclude this relationship."
   ]
  },
  {
   "cell_type": "code",
   "execution_count": 69,
   "id": "7dce7b2b-80d3-4ffd-810d-7bacf0adb7bf",
   "metadata": {},
   "outputs": [
    {
     "data": {
      "text/html": [
       "<div>\n",
       "<style scoped>\n",
       "    .dataframe tbody tr th:only-of-type {\n",
       "        vertical-align: middle;\n",
       "    }\n",
       "\n",
       "    .dataframe tbody tr th {\n",
       "        vertical-align: top;\n",
       "    }\n",
       "\n",
       "    .dataframe thead th {\n",
       "        text-align: right;\n",
       "    }\n",
       "</style>\n",
       "<table border=\"1\" class=\"dataframe\">\n",
       "  <thead>\n",
       "    <tr style=\"text-align: right;\">\n",
       "      <th></th>\n",
       "      <th>bmi</th>\n",
       "      <th>target</th>\n",
       "    </tr>\n",
       "  </thead>\n",
       "  <tbody>\n",
       "    <tr>\n",
       "      <th>bmi</th>\n",
       "      <td>1.00000</td>\n",
       "      <td>0.58645</td>\n",
       "    </tr>\n",
       "    <tr>\n",
       "      <th>target</th>\n",
       "      <td>0.58645</td>\n",
       "      <td>1.00000</td>\n",
       "    </tr>\n",
       "  </tbody>\n",
       "</table>\n",
       "</div>"
      ],
      "text/plain": [
       "            bmi   target\n",
       "bmi     1.00000  0.58645\n",
       "target  0.58645  1.00000"
      ]
     },
     "execution_count": 69,
     "metadata": {},
     "output_type": "execute_result"
    }
   ],
   "source": [
    "#4\n",
    "\n",
    "# Following the observation on bmi, next will be looking into whether bmi has a direct relationship with the progression of the disease,\n",
    "#     with the question, \"Does the progression of diabetes increase with the increase in bmi?\".\n",
    "\n",
    "#looking at the direct correlation between bmi and disease progression (\"target\")\n",
    "diabet[[\"bmi\",\"target\"]].corr()"
   ]
  },
  {
   "cell_type": "code",
   "execution_count": 70,
   "id": "dbd82fb9-416b-46ad-b6bb-7cb723cf2fa0",
   "metadata": {},
   "outputs": [
    {
     "data": {
      "text/plain": [
       "<AxesSubplot:xlabel='bmi', ylabel='target'>"
      ]
     },
     "execution_count": 70,
     "metadata": {},
     "output_type": "execute_result"
    },
    {
     "data": {
      "image/png": "[encoded data removed]",
      "text/plain": [
       "<Figure size 432x288 with 1 Axes>"
      ]
     },
     "metadata": {
      "needs_background": "light"
     },
     "output_type": "display_data"
    }
   ],
   "source": [
    "#creating a scatterplot to see the relationship between bmi and disease progression (\"'target\")\n",
    "sns.regplot(data=diabet, x=\"bmi\", y=\"target\", line_kws={\"color\": \"red\"})"
   ]
  },
  {
   "cell_type": "code",
   "execution_count": 71,
   "id": "336e4df5-c491-4981-a70d-8eba31801d01",
   "metadata": {},
   "outputs": [],
   "source": [
    "# First looking at the correlation between bmi and disease progression (\"target\"), it is seen that there is a positive correlation, which means that\n",
    "#     as bmi increases so does the disease progression. Furthermore, looking at the number tiself, we can see that there is a much higher correlation than \n",
    "#     any of the previous factor couples, especially here it is seen that the rate at which disease progression increases with bmi is almost 5 times\n",
    "#     higher than that of age and disease progression.\n",
    "    \n",
    "# From an earlier histogram plot of the disease progression (\"target\"), it is known that there is a left skewed distribution on the data, meaning that\n",
    "#     there were more patients with lower progression than others. \n",
    "# Following that, the histogram for bmi is also left skewed, this is reflected in the final scatter plot with both having a majority of the data points \n",
    "#     concentrated on the left quadrant of the plot, with even more on the points below the regressions line. \n",
    "# As both bmi and disease progressions increase however, there is a more scattering of data points, and as well the window of\n",
    "#     error with the regression line also widens.\n",
    "    \n",
    "# From the scatter plot itself, it is visible that there is a somewhat clearer linear regressional shape to the plot, reflecting a linear relationship between\n",
    "#     the increase of bmi and disease progression.\n",
    "# It is also more visible that there is a clear course at which the data points move, where most (almost possibly, all) lower disease progression is reflected\n",
    "#     with those with lower bmi levels and majority of the higher disease progression is reflected with higher bmi levels as well.\n",
    "# Therefore through this, it can be concluded that there is a somewhat significant relationship between bmi and disease progression."
   ]
  },
  {
   "cell_type": "code",
   "execution_count": 72,
   "id": "8182b5b3-c414-42b1-bbed-38948d359971",
   "metadata": {},
   "outputs": [
    {
     "data": {
      "text/html": [
       "<div>\n",
       "<style scoped>\n",
       "    .dataframe tbody tr th:only-of-type {\n",
       "        vertical-align: middle;\n",
       "    }\n",
       "\n",
       "    .dataframe tbody tr th {\n",
       "        vertical-align: top;\n",
       "    }\n",
       "\n",
       "    .dataframe thead th {\n",
       "        text-align: right;\n",
       "    }\n",
       "</style>\n",
       "<table border=\"1\" class=\"dataframe\">\n",
       "  <thead>\n",
       "    <tr style=\"text-align: right;\">\n",
       "      <th></th>\n",
       "      <th>s6</th>\n",
       "      <th>target</th>\n",
       "    </tr>\n",
       "  </thead>\n",
       "  <tbody>\n",
       "    <tr>\n",
       "      <th>s6</th>\n",
       "      <td>1.000000</td>\n",
       "      <td>0.382483</td>\n",
       "    </tr>\n",
       "    <tr>\n",
       "      <th>target</th>\n",
       "      <td>0.382483</td>\n",
       "      <td>1.000000</td>\n",
       "    </tr>\n",
       "  </tbody>\n",
       "</table>\n",
       "</div>"
      ],
      "text/plain": [
       "              s6    target\n",
       "s6      1.000000  0.382483\n",
       "target  0.382483  1.000000"
      ]
     },
     "execution_count": 72,
     "metadata": {},
     "output_type": "execute_result"
    },
    {
     "data": {
      "image/png": "[encoded data removed]",
      "text/plain": [
       "<Figure size 432x288 with 1 Axes>"
      ]
     },
     "metadata": {
      "needs_background": "light"
     },
     "output_type": "display_data"
    }
   ],
   "source": [
    "#5\n",
    "\n",
    "# Finally, a more direct approach will be taken to look into a factor that may effect the progression of diabetes. This time will be looking into\n",
    "#     whether blood sugar level has any direct effect on disease progression with the question, \"Does a patient's blood sugar level have a direct\n",
    "#     relationship to affecting the progression of the disease(diabetes)?\".\n",
    "\n",
    "#looking through a histogram the distribution of sugar level(\"s6\") in the the data\n",
    "diabet['s6'].hist()\n",
    "\n",
    "#looking at the direct correlation between sugar level(\"s6\") and disease progression (\"target\")\n",
    "diabet[[\"s6\",\"target\"]].corr()"
   ]
  },
  {
   "cell_type": "code",
   "execution_count": 73,
   "id": "68c7ff2b-e018-4f99-ac1b-5fb33228d7ae",
   "metadata": {},
   "outputs": [
    {
     "data": {
      "text/plain": [
       "<AxesSubplot:xlabel='s6', ylabel='target'>"
      ]
     },
     "execution_count": 73,
     "metadata": {},
     "output_type": "execute_result"
    },
    {
     "data": {
      "image/png": "[encoded data removed]",
      "text/plain": [
       "<Figure size 432x288 with 1 Axes>"
      ]
     },
     "metadata": {
      "needs_background": "light"
     },
     "output_type": "display_data"
    }
   ],
   "source": [
    "#creating a scatterplot to see the relationship between sugar level(\"s6\") and disease progression (\"target\")\n",
    "sns.regplot(data=diabet, x=\"s6\", y=\"target\", line_kws={\"color\": \"red\"})"
   ]
  },
  {
   "cell_type": "code",
   "execution_count": 74,
   "id": "9e1bf5b0-882f-4ced-8275-ec877746b528",
   "metadata": {},
   "outputs": [],
   "source": [
    "# First looking at the correlation between sugar level (\"s6\") and disease progression (\"target\"), it is seen that there is a positive correlation, \n",
    "#     which means that as a patient's sugar level increases so does the disease progression. \n",
    "# However, looking at the number tiself, we can see that the number doesn't reflect that there is a big significant correlation between the two.\n",
    "    \n",
    "# From an earlier histogram plot of the disease progression (\"target\"), it is known that there is a left skewed distribution on the data, meaning that\n",
    "#     there were more patients with lower progression than others. \n",
    "# Following that, the histogram for sugar level however has a more normal distribution. This is reflected in the final scatter plot where the majority of\n",
    "#     data points can be seen is concentrated in the center of the chart.\n",
    "# There is more scattering of points in both ends of the plot with also the error window visibly wider than it is in the middle.\n",
    "    \n",
    "# From the scatter plot itself, it is visible that there is a linear regressional shape to the plot, reflecting a linear relationship between\n",
    "#     the increase of sugar levels and disease progression.\n",
    "# The linear relationship between sugar level and disease progression can be seen clearly in the plot, with most of the lower disease progressions seen\n",
    "#     with lower sugar levels, and most (almost all) of the higher disease progression placed with higher sugar levels.\n",
    "# It is seen that a major concentration of the data points is found in the center of the plot with it being even more concentrated below the regression line,\n",
    "#     while the data points placed above the line can be seen as more widely dispersed.\n",
    "# Although not as significant as the correlation between bmi and disease progression, the correlation between sugar levels and disease progression\n",
    "#     has some significance and effect.\n",
    "# Therefore through this, it can be concluded that there is a somewhat significant relationship between sugar levels and disease progression. However, \n",
    "#     a further observation would be needed to conclude whether the correlation is accurate since the type of diabetes is not known and\n",
    "#     there could be other factors that affects the progression."
   ]
  },
  {
   "cell_type": "code",
   "execution_count": null,
   "id": "22727932-cc51-45fc-a6e7-b34b84c673d4",
   "metadata": {},
   "outputs": [],
   "source": []
  }
 ],
 "metadata": {
  "kernelspec": {
   "display_name": "KLASA Env",
   "language": "python",
   "name": "klasa-env"
  },
  "language_info": {
   "codemirror_mode": {
    "name": "ipython",
    "version": 3
   },
   "file_extension": ".py",
   "mimetype": "text/x-python",
   "name": "python",
   "nbconvert_exporter": "python",
   "pygments_lexer": "ipython3",
   "version": "3.7.11"
  }
 },
 "nbformat": 4,
 "nbformat_minor": 5
}
