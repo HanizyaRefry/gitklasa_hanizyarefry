{
 "cells": [
  {
   "cell_type": "code",
   "execution_count": 2,
   "id": "1aae6c9f-464c-4c91-9b66-24da6d54f662",
   "metadata": {},
   "outputs": [
    {
     "name": "stdout",
     "output_type": "stream",
     "text": [
      "1.3.4\n"
     ]
    }
   ],
   "source": [
    "# Import Python library: Panda, numpy, matplotlib\n",
    "import pandas as pd\n",
    "import numpy as np\n",
    "import matplotlib.pyplot as plt\n",
    "import datetime as dt\n",
    "import calendar\n",
    "print(pd.__version__)"
   ]
  },
  {
   "cell_type": "code",
   "execution_count": 3,
   "id": "3525b84a-2e26-4649-8227-0a3008d34a48",
   "metadata": {},
   "outputs": [],
   "source": [
    "#import csv file \n",
    "readdata = pd.read_csv('SAT__College_Board__2010_School_Level_Results.csv')\n",
    "#Convert file into dataframe\n",
    "satdata = pd.DataFrame(readdata)\n",
    "#satdata"
   ]
  },
  {
   "cell_type": "code",
   "execution_count": 4,
   "id": "9e7b04b2-e83c-4777-b482-6892ad255423",
   "metadata": {},
   "outputs": [
    {
     "name": "stdout",
     "output_type": "stream",
     "text": [
      "First 7 rows of the Dataframe : \n",
      "      DBN                                     School Name  \\\n",
      "0  01M292  Henry Street School for International Studies    \n",
      "1  01M448            University Neighborhood High School    \n",
      "2  01M450                East Side Community High School    \n",
      "3  01M458                   SATELLITE ACADEMY FORSYTH ST    \n",
      "4  01M509                               CMSP HIGH SCHOOL    \n",
      "5  01M515        Lower East Side Preparatory High School    \n",
      "6  01M539    New Explorations into Sci, Tech and Math HS    \n",
      "\n",
      "   Number of Test Takers  Critical Reading Mean  Mathematics Mean  \\\n",
      "0                   31.0                  391.0             425.0   \n",
      "1                   60.0                  394.0             419.0   \n",
      "2                   69.0                  418.0             431.0   \n",
      "3                   26.0                  385.0             370.0   \n",
      "4                    NaN                    NaN               NaN   \n",
      "5                  154.0                  314.0             532.0   \n",
      "6                   47.0                  568.0             583.0   \n",
      "\n",
      "   Writing Mean  \n",
      "0         385.0  \n",
      "1         387.0  \n",
      "2         402.0  \n",
      "3         378.0  \n",
      "4           NaN  \n",
      "5         314.0  \n",
      "6         568.0  \n"
     ]
    }
   ],
   "source": [
    "# Select the top 7 rows of the Dataframe\n",
    "dftop7 = satdata.head(7)\n",
    "print(\"First 7 rows of the Dataframe : \")\n",
    "print(dftop7)"
   ]
  },
  {
   "cell_type": "code",
   "execution_count": 5,
   "id": "67835d30-68c0-4bc7-99ee-3a12f0346f37",
   "metadata": {},
   "outputs": [
    {
     "data": {
      "text/plain": [
       "DBN                       0\n",
       "School Name               0\n",
       "Number of Test Takers    74\n",
       "Critical Reading Mean    74\n",
       "Mathematics Mean         74\n",
       "Writing Mean             74\n",
       "dtype: int64"
      ]
     },
     "execution_count": 5,
     "metadata": {},
     "output_type": "execute_result"
    }
   ],
   "source": [
    "#Count number of null in each column\n",
    "satdata.isnull().sum(axis = 0)"
   ]
  },
  {
   "cell_type": "code",
   "execution_count": 6,
   "id": "5249b1fe-9fee-4d36-b2dd-51f0f9e2c2bb",
   "metadata": {},
   "outputs": [
    {
     "data": {
      "text/html": [
       "<div>\n",
       "<style scoped>\n",
       "    .dataframe tbody tr th:only-of-type {\n",
       "        vertical-align: middle;\n",
       "    }\n",
       "\n",
       "    .dataframe tbody tr th {\n",
       "        vertical-align: top;\n",
       "    }\n",
       "\n",
       "    .dataframe thead th {\n",
       "        text-align: right;\n",
       "    }\n",
       "</style>\n",
       "<table border=\"1\" class=\"dataframe\">\n",
       "  <thead>\n",
       "    <tr style=\"text-align: right;\">\n",
       "      <th></th>\n",
       "      <th>School Name</th>\n",
       "      <th>Number of Test Takers</th>\n",
       "      <th>Critical Reading Mean</th>\n",
       "    </tr>\n",
       "  </thead>\n",
       "  <tbody>\n",
       "    <tr>\n",
       "      <th>0</th>\n",
       "      <td>Henry Street School for International Studies</td>\n",
       "      <td>31.0</td>\n",
       "      <td>391.0</td>\n",
       "    </tr>\n",
       "    <tr>\n",
       "      <th>1</th>\n",
       "      <td>University Neighborhood High School</td>\n",
       "      <td>60.0</td>\n",
       "      <td>394.0</td>\n",
       "    </tr>\n",
       "    <tr>\n",
       "      <th>2</th>\n",
       "      <td>East Side Community High School</td>\n",
       "      <td>69.0</td>\n",
       "      <td>418.0</td>\n",
       "    </tr>\n",
       "    <tr>\n",
       "      <th>3</th>\n",
       "      <td>SATELLITE ACADEMY FORSYTH ST</td>\n",
       "      <td>26.0</td>\n",
       "      <td>385.0</td>\n",
       "    </tr>\n",
       "    <tr>\n",
       "      <th>4</th>\n",
       "      <td>CMSP HIGH SCHOOL</td>\n",
       "      <td>NaN</td>\n",
       "      <td>NaN</td>\n",
       "    </tr>\n",
       "    <tr>\n",
       "      <th>...</th>\n",
       "      <td>...</td>\n",
       "      <td>...</td>\n",
       "      <td>...</td>\n",
       "    </tr>\n",
       "    <tr>\n",
       "      <th>455</th>\n",
       "      <td>South Richmond High School</td>\n",
       "      <td>10.0</td>\n",
       "      <td>407.0</td>\n",
       "    </tr>\n",
       "    <tr>\n",
       "      <th>456</th>\n",
       "      <td>PS12X LEWIS AND CLARK SCHOOL</td>\n",
       "      <td>NaN</td>\n",
       "      <td>NaN</td>\n",
       "    </tr>\n",
       "    <tr>\n",
       "      <th>457</th>\n",
       "      <td>P754 X - Jeffrey M. Rapport School for Career ...</td>\n",
       "      <td>NaN</td>\n",
       "      <td>NaN</td>\n",
       "    </tr>\n",
       "    <tr>\n",
       "      <th>458</th>\n",
       "      <td>John Jay High School</td>\n",
       "      <td>9.0</td>\n",
       "      <td>390.0</td>\n",
       "    </tr>\n",
       "    <tr>\n",
       "      <th>459</th>\n",
       "      <td>PHOENIX SCHOOL</td>\n",
       "      <td>7.0</td>\n",
       "      <td>404.0</td>\n",
       "    </tr>\n",
       "  </tbody>\n",
       "</table>\n",
       "<p>460 rows × 3 columns</p>\n",
       "</div>"
      ],
      "text/plain": [
       "                                           School Name  Number of Test Takers  \\\n",
       "0       Henry Street School for International Studies                    31.0   \n",
       "1                 University Neighborhood High School                    60.0   \n",
       "2                     East Side Community High School                    69.0   \n",
       "3                        SATELLITE ACADEMY FORSYTH ST                    26.0   \n",
       "4                                    CMSP HIGH SCHOOL                     NaN   \n",
       "..                                                 ...                    ...   \n",
       "455                        South Richmond High School                    10.0   \n",
       "456                      PS12X LEWIS AND CLARK SCHOOL                     NaN   \n",
       "457  P754 X - Jeffrey M. Rapport School for Career ...                    NaN   \n",
       "458                              John Jay High School                     9.0   \n",
       "459                                    PHOENIX SCHOOL                     7.0   \n",
       "\n",
       "     Critical Reading Mean  \n",
       "0                    391.0  \n",
       "1                    394.0  \n",
       "2                    418.0  \n",
       "3                    385.0  \n",
       "4                      NaN  \n",
       "..                     ...  \n",
       "455                  407.0  \n",
       "456                    NaN  \n",
       "457                    NaN  \n",
       "458                  390.0  \n",
       "459                  404.0  \n",
       "\n",
       "[460 rows x 3 columns]"
      ]
     },
     "execution_count": 6,
     "metadata": {},
     "output_type": "execute_result"
    }
   ],
   "source": [
    "#Remove all but 2 number datatype columns (reduced dataframe)\n",
    "red_satdata = satdata.drop(['DBN', 'Mathematics Mean', 'Writing Mean'], axis = 1)\n",
    "red_satdata"
   ]
  },
  {
   "cell_type": "code",
   "execution_count": 7,
   "id": "05bf1994-2459-429b-951f-9d6714ab2fff",
   "metadata": {},
   "outputs": [
    {
     "name": "stdout",
     "output_type": "stream",
     "text": [
      "The mean of each numerical column:\n",
      "Number of Test Takers    103.658031\n",
      "Critical Reading Mean    404.248705\n",
      "dtype: float64\n",
      "The median of each numerical column:\n",
      "Number of Test Takers     54.0\n",
      "Critical Reading Mean    392.5\n",
      "dtype: float64\n",
      "The standard deviation of each numerical column:\n",
      "Number of Test Takers    145.264496\n",
      "Critical Reading Mean     56.815631\n",
      "dtype: float64\n"
     ]
    }
   ],
   "source": [
    "#Display the average, median, and standard deviation of each numerical columns\n",
    "\n",
    "print(\"The mean of each numerical column:\")\n",
    "print(red_satdata.mean(axis = 0, skipna = True, numeric_only = True))\n",
    "\n",
    "print(\"The median of each numerical column:\")\n",
    "print(red_satdata.median(axis = 0, skipna = True, numeric_only = True))\n",
    "\n",
    "print(\"The standard deviation of each numerical column:\")\n",
    "print(red_satdata.std(axis = 0, skipna = True, numeric_only = True))\n",
    "\n",
    "#For all other data statistics\n",
    "#red_satdata.describe()"
   ]
  },
  {
   "cell_type": "code",
   "execution_count": 8,
   "id": "799ed1ca-16e6-4684-b12d-5c2dd916b4a8",
   "metadata": {},
   "outputs": [
    {
     "data": {
      "text/plain": [
       "<AxesSubplot:xlabel='Number of Test Takers', ylabel='Critical Reading Mean'>"
      ]
     },
     "execution_count": 8,
     "metadata": {},
     "output_type": "execute_result"
    },
    {
     "data": {
      "image/png": "[encoded data removed]",
      "text/plain": [
       "<Figure size 432x288 with 1 Axes>"
      ]
     },
     "metadata": {
      "needs_background": "light"
     },
     "output_type": "display_data"
    }
   ],
   "source": [
    "#Plot two of the numerical columns one against the other in a scatter plot\n",
    "red_satdata.plot.scatter(x='Number of Test Takers', y='Critical Reading Mean')"
   ]
  },
  {
   "cell_type": "code",
   "execution_count": 9,
   "id": "0bb2a3c8-e4cc-4340-b72a-294277403780",
   "metadata": {},
   "outputs": [
    {
     "data": {
      "text/plain": [
       "<AxesSubplot:ylabel='Frequency'>"
      ]
     },
     "execution_count": 9,
     "metadata": {},
     "output_type": "execute_result"
    },
    {
     "data": {
      "image/png": "[encoded data removed]",
      "text/plain": [
       "<Figure size 432x288 with 1 Axes>"
      ]
     },
     "metadata": {
      "needs_background": "light"
     },
     "output_type": "display_data"
    },
    {
     "data": {
      "image/png": "[encoded data removed]",
      "text/plain": [
       "<Figure size 432x288 with 1 Axes>"
      ]
     },
     "metadata": {
      "needs_background": "light"
     },
     "output_type": "display_data"
    }
   ],
   "source": [
    "#Plot the data distribution of all your numerical columns in histogram and boxplot\n",
    "red_satdata.boxplot(column=['Number of Test Takers', 'Critical Reading Mean'])\n",
    "red_satdata.plot.hist(bins=50, alpha=0.5)"
   ]
  },
  {
   "cell_type": "code",
   "execution_count": 10,
   "id": "dcc768e3-d7be-4433-9bef-1cc667758310",
   "metadata": {},
   "outputs": [
    {
     "data": {
      "text/html": [
       "<div>\n",
       "<style scoped>\n",
       "    .dataframe tbody tr th:only-of-type {\n",
       "        vertical-align: middle;\n",
       "    }\n",
       "\n",
       "    .dataframe tbody tr th {\n",
       "        vertical-align: top;\n",
       "    }\n",
       "\n",
       "    .dataframe thead th {\n",
       "        text-align: right;\n",
       "    }\n",
       "</style>\n",
       "<table border=\"1\" class=\"dataframe\">\n",
       "  <thead>\n",
       "    <tr style=\"text-align: right;\">\n",
       "      <th></th>\n",
       "      <th>Number of Test Takers</th>\n",
       "      <th>Raised Power Value Test Takers</th>\n",
       "      <th>Critical Reading Mean</th>\n",
       "      <th>Raised Power Value Reading Mean</th>\n",
       "    </tr>\n",
       "  </thead>\n",
       "  <tbody>\n",
       "    <tr>\n",
       "      <th>0</th>\n",
       "      <td>31.0</td>\n",
       "      <td>961.0</td>\n",
       "      <td>391.0</td>\n",
       "      <td>152881.0</td>\n",
       "    </tr>\n",
       "    <tr>\n",
       "      <th>1</th>\n",
       "      <td>60.0</td>\n",
       "      <td>3600.0</td>\n",
       "      <td>394.0</td>\n",
       "      <td>155236.0</td>\n",
       "    </tr>\n",
       "    <tr>\n",
       "      <th>2</th>\n",
       "      <td>69.0</td>\n",
       "      <td>4761.0</td>\n",
       "      <td>418.0</td>\n",
       "      <td>174724.0</td>\n",
       "    </tr>\n",
       "    <tr>\n",
       "      <th>3</th>\n",
       "      <td>26.0</td>\n",
       "      <td>676.0</td>\n",
       "      <td>385.0</td>\n",
       "      <td>148225.0</td>\n",
       "    </tr>\n",
       "    <tr>\n",
       "      <th>4</th>\n",
       "      <td>NaN</td>\n",
       "      <td>NaN</td>\n",
       "      <td>NaN</td>\n",
       "      <td>NaN</td>\n",
       "    </tr>\n",
       "    <tr>\n",
       "      <th>...</th>\n",
       "      <td>...</td>\n",
       "      <td>...</td>\n",
       "      <td>...</td>\n",
       "      <td>...</td>\n",
       "    </tr>\n",
       "    <tr>\n",
       "      <th>455</th>\n",
       "      <td>10.0</td>\n",
       "      <td>100.0</td>\n",
       "      <td>407.0</td>\n",
       "      <td>165649.0</td>\n",
       "    </tr>\n",
       "    <tr>\n",
       "      <th>456</th>\n",
       "      <td>NaN</td>\n",
       "      <td>NaN</td>\n",
       "      <td>NaN</td>\n",
       "      <td>NaN</td>\n",
       "    </tr>\n",
       "    <tr>\n",
       "      <th>457</th>\n",
       "      <td>NaN</td>\n",
       "      <td>NaN</td>\n",
       "      <td>NaN</td>\n",
       "      <td>NaN</td>\n",
       "    </tr>\n",
       "    <tr>\n",
       "      <th>458</th>\n",
       "      <td>9.0</td>\n",
       "      <td>81.0</td>\n",
       "      <td>390.0</td>\n",
       "      <td>152100.0</td>\n",
       "    </tr>\n",
       "    <tr>\n",
       "      <th>459</th>\n",
       "      <td>7.0</td>\n",
       "      <td>49.0</td>\n",
       "      <td>404.0</td>\n",
       "      <td>163216.0</td>\n",
       "    </tr>\n",
       "  </tbody>\n",
       "</table>\n",
       "<p>460 rows × 4 columns</p>\n",
       "</div>"
      ],
      "text/plain": [
       "     Number of Test Takers  Raised Power Value Test Takers  \\\n",
       "0                     31.0                           961.0   \n",
       "1                     60.0                          3600.0   \n",
       "2                     69.0                          4761.0   \n",
       "3                     26.0                           676.0   \n",
       "4                      NaN                             NaN   \n",
       "..                     ...                             ...   \n",
       "455                   10.0                           100.0   \n",
       "456                    NaN                             NaN   \n",
       "457                    NaN                             NaN   \n",
       "458                    9.0                            81.0   \n",
       "459                    7.0                            49.0   \n",
       "\n",
       "     Critical Reading Mean  Raised Power Value Reading Mean  \n",
       "0                    391.0                         152881.0  \n",
       "1                    394.0                         155236.0  \n",
       "2                    418.0                         174724.0  \n",
       "3                    385.0                         148225.0  \n",
       "4                      NaN                              NaN  \n",
       "..                     ...                              ...  \n",
       "455                  407.0                         165649.0  \n",
       "456                    NaN                              NaN  \n",
       "457                    NaN                              NaN  \n",
       "458                  390.0                         152100.0  \n",
       "459                  404.0                         163216.0  \n",
       "\n",
       "[460 rows x 4 columns]"
      ]
     },
     "execution_count": 10,
     "metadata": {},
     "output_type": "execute_result"
    }
   ],
   "source": [
    "red_satdata['Raised Power Value Test Takers'] = red_satdata['Number of Test Takers']**(2)\n",
    "red_satdata['Raised Power Value Reading Mean'] = red_satdata['Critical Reading Mean']**(2)\n",
    "redpow_satdata = red_satdata[['Number of Test Takers', 'Raised Power Value Test Takers', 'Critical Reading Mean', 'Raised Power Value Reading Mean']]\n",
    "redpow_satdata"
   ]
  },
  {
   "cell_type": "code",
   "execution_count": 66,
   "id": "014d16f0-2f9a-4f83-a082-e18c75106191",
   "metadata": {},
   "outputs": [
    {
     "data": {
      "text/html": [
       "<div>\n",
       "<style scoped>\n",
       "    .dataframe tbody tr th:only-of-type {\n",
       "        vertical-align: middle;\n",
       "    }\n",
       "\n",
       "    .dataframe tbody tr th {\n",
       "        vertical-align: top;\n",
       "    }\n",
       "\n",
       "    .dataframe thead th {\n",
       "        text-align: right;\n",
       "    }\n",
       "</style>\n",
       "<table border=\"1\" class=\"dataframe\">\n",
       "  <thead>\n",
       "    <tr style=\"text-align: right;\">\n",
       "      <th></th>\n",
       "      <th>Trip Duration</th>\n",
       "      <th>Start Time</th>\n",
       "      <th>Stop Time</th>\n",
       "      <th>Start Station ID</th>\n",
       "      <th>Start Station Name</th>\n",
       "      <th>Start Station Latitude</th>\n",
       "      <th>Start Station Longitude</th>\n",
       "      <th>End Station ID</th>\n",
       "      <th>End Station Name</th>\n",
       "      <th>End Station Latitude</th>\n",
       "      <th>End Station Longitude</th>\n",
       "      <th>Bike ID</th>\n",
       "      <th>User Type</th>\n",
       "      <th>Birth Year</th>\n",
       "      <th>Gender</th>\n",
       "      <th>Num ID</th>\n",
       "      <th>Age</th>\n",
       "    </tr>\n",
       "  </thead>\n",
       "  <tbody>\n",
       "    <tr>\n",
       "      <th>0</th>\n",
       "      <td>1087</td>\n",
       "      <td>2017-02-01 00:00:13</td>\n",
       "      <td>2017-02-01 00:18:20</td>\n",
       "      <td>345</td>\n",
       "      <td>W 13 St &amp; 6 Ave</td>\n",
       "      <td>40.736494</td>\n",
       "      <td>-73.997044</td>\n",
       "      <td>305</td>\n",
       "      <td>E 58 St &amp; 3 Ave</td>\n",
       "      <td>40.760958</td>\n",
       "      <td>-73.967245</td>\n",
       "      <td>17432</td>\n",
       "      <td>Subscriber</td>\n",
       "      <td>1966.0</td>\n",
       "      <td>1</td>\n",
       "      <td>1</td>\n",
       "      <td>51.0</td>\n",
       "    </tr>\n",
       "    <tr>\n",
       "      <th>1</th>\n",
       "      <td>704</td>\n",
       "      <td>2017-02-01 00:00:31</td>\n",
       "      <td>2017-02-01 00:12:15</td>\n",
       "      <td>3295</td>\n",
       "      <td>Central Park W &amp; W 96 St</td>\n",
       "      <td>40.791270</td>\n",
       "      <td>-73.964839</td>\n",
       "      <td>2006</td>\n",
       "      <td>Central Park S &amp; 6 Ave</td>\n",
       "      <td>40.765909</td>\n",
       "      <td>-73.976342</td>\n",
       "      <td>20621</td>\n",
       "      <td>Customer</td>\n",
       "      <td>NaN</td>\n",
       "      <td>0</td>\n",
       "      <td>2</td>\n",
       "      <td>NaN</td>\n",
       "    </tr>\n",
       "    <tr>\n",
       "      <th>2</th>\n",
       "      <td>212</td>\n",
       "      <td>2017-02-01 00:00:34</td>\n",
       "      <td>2017-02-01 00:04:06</td>\n",
       "      <td>336</td>\n",
       "      <td>Sullivan St &amp; Washington Sq</td>\n",
       "      <td>40.730477</td>\n",
       "      <td>-73.999061</td>\n",
       "      <td>439</td>\n",
       "      <td>E 4 St &amp; 2 Ave</td>\n",
       "      <td>40.726281</td>\n",
       "      <td>-73.989780</td>\n",
       "      <td>16826</td>\n",
       "      <td>Subscriber</td>\n",
       "      <td>1984.0</td>\n",
       "      <td>1</td>\n",
       "      <td>3</td>\n",
       "      <td>33.0</td>\n",
       "    </tr>\n",
       "    <tr>\n",
       "      <th>3</th>\n",
       "      <td>1140</td>\n",
       "      <td>2017-02-01 00:00:44</td>\n",
       "      <td>2017-02-01 00:19:44</td>\n",
       "      <td>484</td>\n",
       "      <td>W 44 St &amp; 5 Ave</td>\n",
       "      <td>40.755003</td>\n",
       "      <td>-73.980144</td>\n",
       "      <td>3295</td>\n",
       "      <td>Central Park W &amp; W 96 St</td>\n",
       "      <td>40.791270</td>\n",
       "      <td>-73.964839</td>\n",
       "      <td>27052</td>\n",
       "      <td>Subscriber</td>\n",
       "      <td>1980.0</td>\n",
       "      <td>1</td>\n",
       "      <td>4</td>\n",
       "      <td>37.0</td>\n",
       "    </tr>\n",
       "    <tr>\n",
       "      <th>4</th>\n",
       "      <td>320</td>\n",
       "      <td>2017-02-01 00:00:42</td>\n",
       "      <td>2017-02-01 00:06:02</td>\n",
       "      <td>490</td>\n",
       "      <td>8 Ave &amp; W 33 St</td>\n",
       "      <td>40.751551</td>\n",
       "      <td>-73.993934</td>\n",
       "      <td>3431</td>\n",
       "      <td>E 35 St &amp; 3 Ave</td>\n",
       "      <td>40.746524</td>\n",
       "      <td>-73.977885</td>\n",
       "      <td>25238</td>\n",
       "      <td>Subscriber</td>\n",
       "      <td>1987.0</td>\n",
       "      <td>1</td>\n",
       "      <td>5</td>\n",
       "      <td>30.0</td>\n",
       "    </tr>\n",
       "  </tbody>\n",
       "</table>\n",
       "</div>"
      ],
      "text/plain": [
       "   Trip Duration           Start Time            Stop Time  Start Station ID  \\\n",
       "0           1087  2017-02-01 00:00:13  2017-02-01 00:18:20               345   \n",
       "1            704  2017-02-01 00:00:31  2017-02-01 00:12:15              3295   \n",
       "2            212  2017-02-01 00:00:34  2017-02-01 00:04:06               336   \n",
       "3           1140  2017-02-01 00:00:44  2017-02-01 00:19:44               484   \n",
       "4            320  2017-02-01 00:00:42  2017-02-01 00:06:02               490   \n",
       "\n",
       "            Start Station Name  Start Station Latitude  \\\n",
       "0              W 13 St & 6 Ave               40.736494   \n",
       "1     Central Park W & W 96 St               40.791270   \n",
       "2  Sullivan St & Washington Sq               40.730477   \n",
       "3              W 44 St & 5 Ave               40.755003   \n",
       "4              8 Ave & W 33 St               40.751551   \n",
       "\n",
       "   Start Station Longitude  End Station ID          End Station Name  \\\n",
       "0               -73.997044             305           E 58 St & 3 Ave   \n",
       "1               -73.964839            2006    Central Park S & 6 Ave   \n",
       "2               -73.999061             439            E 4 St & 2 Ave   \n",
       "3               -73.980144            3295  Central Park W & W 96 St   \n",
       "4               -73.993934            3431           E 35 St & 3 Ave   \n",
       "\n",
       "   End Station Latitude  End Station Longitude  Bike ID   User Type  \\\n",
       "0             40.760958             -73.967245    17432  Subscriber   \n",
       "1             40.765909             -73.976342    20621    Customer   \n",
       "2             40.726281             -73.989780    16826  Subscriber   \n",
       "3             40.791270             -73.964839    27052  Subscriber   \n",
       "4             40.746524             -73.977885    25238  Subscriber   \n",
       "\n",
       "   Birth Year  Gender  Num ID   Age  \n",
       "0      1966.0       1       1  51.0  \n",
       "1         NaN       0       2   NaN  \n",
       "2      1984.0       1       3  33.0  \n",
       "3      1980.0       1       4  37.0  \n",
       "4      1987.0       1       5  30.0  "
      ]
     },
     "execution_count": 66,
     "metadata": {},
     "output_type": "execute_result"
    }
   ],
   "source": [
    "#import csv file \n",
    "read_data = pd.read_csv('201702-citibike-tripdata.csv')\n",
    "#Convert file into dataframe\n",
    "citidata = pd.DataFrame(read_data)\n",
    "#Creating a ID Number to each Trip/User for ease of data use going further\n",
    "citidata['Num ID'] = range(1,len(citidata)+1)\n",
    "citidata['Age'] = 2017-citidata['Birth Year']\n",
    "\n",
    "\n",
    "cdtop = citidata.head(5)\n",
    "cdtop"
   ]
  },
  {
   "cell_type": "code",
   "execution_count": 67,
   "id": "c66f5fe2-2a38-4a7c-ba38-4f4b7c173f8f",
   "metadata": {},
   "outputs": [
    {
     "data": {
      "text/plain": [
       "Trip Duration                  0\n",
       "Start Time                     0\n",
       "Stop Time                      0\n",
       "Start Station ID               0\n",
       "Start Station Name             0\n",
       "Start Station Latitude         0\n",
       "Start Station Longitude        0\n",
       "End Station ID                 0\n",
       "End Station Name               0\n",
       "End Station Latitude           0\n",
       "End Station Longitude          0\n",
       "Bike ID                        0\n",
       "User Type                   7580\n",
       "Birth Year                 49323\n",
       "Gender                         0\n",
       "Num ID                         0\n",
       "Age                        49323\n",
       "dtype: int64"
      ]
     },
     "execution_count": 67,
     "metadata": {},
     "output_type": "execute_result"
    }
   ],
   "source": [
    "#Count the number of missing values of each column\n",
    "citidata.isnull().sum(axis = 0)"
   ]
  },
  {
   "cell_type": "code",
   "execution_count": 68,
   "id": "7c410b92-c5df-41a6-9ad2-b4894aeec81d",
   "metadata": {},
   "outputs": [
    {
     "name": "stdout",
     "output_type": "stream",
     "text": [
      "    Count Gender Name\n",
      "1  567844        Male\n",
      "2  171785      Female\n",
      "0   52018     Unknown\n"
     ]
    },
    {
     "data": {
      "text/plain": [
       "<AxesSubplot:ylabel='Count'>"
      ]
     },
     "execution_count": 68,
     "metadata": {},
     "output_type": "execute_result"
    },
    {
     "data": {
      "image/png": "[encoded data removed]",
      "text/plain": [
       "<Figure size 360x360 with 1 Axes>"
      ]
     },
     "metadata": {},
     "output_type": "display_data"
    }
   ],
   "source": [
    "#Showing Citibike Ridership by distribution of Gender\n",
    "genderdata = citidata['Gender'].value_counts()\n",
    "gendercount = pd.DataFrame(genderdata)\n",
    "gendercount.columns = ['Count'] # change column names\n",
    "gendercount['Gender Name'] = ['Male', 'Female', 'Unknown']\n",
    "print(gendercount)\n",
    "gendercount.plot.pie(y='Count', figsize=(5, 5))"
   ]
  },
  {
   "cell_type": "code",
   "execution_count": 69,
   "id": "2b88bc6d-c906-4eb2-8ee2-236a98e80e8d",
   "metadata": {},
   "outputs": [
    {
     "data": {
      "text/plain": [
       "<AxesSubplot:ylabel='User Type'>"
      ]
     },
     "execution_count": 69,
     "metadata": {},
     "output_type": "execute_result"
    },
    {
     "data": {
      "image/png": "[encoded data removed]",
      "text/plain": [
       "<Figure size 360x360 with 1 Axes>"
      ]
     },
     "metadata": {},
     "output_type": "display_data"
    }
   ],
   "source": [
    "#Showing Citibike Ridership by distribution of User Type\n",
    "userdata = citidata['User Type'].value_counts()\n",
    "userdata = pd.DataFrame(userdata)\n",
    "userdata\n",
    "userdata.plot.pie(y='User Type', figsize=(5, 5))\n"
   ]
  },
  {
   "cell_type": "code",
   "execution_count": 70,
   "id": "dd868e5b-ce20-4f9e-8b09-f6bae9dc4592",
   "metadata": {},
   "outputs": [
    {
     "data": {
      "text/plain": [
       "count    742324.000000\n",
       "mean         39.276984\n",
       "std          12.018134\n",
       "min          16.000000\n",
       "25%          30.000000\n",
       "50%          37.000000\n",
       "75%          48.000000\n",
       "max         159.000000\n",
       "Name: Age, dtype: float64"
      ]
     },
     "execution_count": 70,
     "metadata": {},
     "output_type": "execute_result"
    },
    {
     "data": {
      "image/png": "[encoded data removed]",
      "text/plain": [
       "<Figure size 432x288 with 1 Axes>"
      ]
     },
     "metadata": {
      "needs_background": "light"
     },
     "output_type": "display_data"
    }
   ],
   "source": [
    "#Showing Citibike Ridership by distribution of Age\n",
    "citidata.boxplot(column=['Age'])\n",
    "citidata['Age'].describe()\n",
    "#We can see that there are outliers in this data, that somehow there are people aged even above 100 years old.\n",
    "#After an investigation, it is observed that there is an error (possibly mistyping) of the birthyear of some users by 100 years\n"
   ]
  },
  {
   "cell_type": "code",
   "execution_count": 71,
   "id": "eb9e2a43-8d72-41d7-ae9f-10bcec5c125e",
   "metadata": {},
   "outputs": [
    {
     "data": {
      "text/plain": [
       "Wednesday    145820\n",
       "Tuesday      127199\n",
       "Monday       125548\n",
       "Friday       107395\n",
       "Thursday     106071\n",
       "Saturday      92077\n",
       "Sunday        87537\n",
       "Name: Day, dtype: int64"
      ]
     },
     "execution_count": 71,
     "metadata": {},
     "output_type": "execute_result"
    }
   ],
   "source": [
    "#What is the average number of trips per day?¶\n",
    "citidata['Start Time'] = pd.to_datetime(citidata['Start Time'], format=\"%Y/%m/%d %H:%M:%S\")\n",
    "citidata['Day'] = citidata['Start Time'].dt.day_name()\n",
    "daydata = citidata['Day'].value_counts()\n",
    "daydata"
   ]
  },
  {
   "cell_type": "code",
   "execution_count": 72,
   "id": "4d086388-b02f-4659-90b1-57149caf22f4",
   "metadata": {},
   "outputs": [
    {
     "name": "stdout",
     "output_type": "stream",
     "text": [
      "Average Trip Duration (in seconds):\n",
      "812.8737833908295\n",
      "Average Trip Duration (in minutes):\n",
      "13.547896389847159\n",
      "Average Trip Duration (in hours):\n",
      "0.22579827316411932\n"
     ]
    }
   ],
   "source": [
    "#What is the average trip duration?¶\n",
    "print('Average Trip Duration (in seconds):')\n",
    "duravg = citidata['Trip Duration'].mean(axis = 0, skipna = True)\n",
    "print(duravg)\n",
    "print('Average Trip Duration (in minutes):')\n",
    "duravgm = duravg/60\n",
    "print(duravgm)\n",
    "print('Average Trip Duration (in hours):')\n",
    "duravgh = duravgm/60\n",
    "print(duravgh)"
   ]
  },
  {
   "cell_type": "code",
   "execution_count": 73,
   "id": "8b21afac-1c07-45a8-a09c-5346ce43de86",
   "metadata": {},
   "outputs": [
    {
     "name": "stdout",
     "output_type": "stream",
     "text": [
      "The day of the week most rides are taken on is on a:\n",
      "Wednesday\n"
     ]
    }
   ],
   "source": [
    "#What days of the week are most rides taken on?\n",
    "\n",
    "most_day = pd.DataFrame(daydata)\n",
    "most_day.columns = ['Count'] # change column names\n",
    "print(\"The day of the week most rides are taken on is on a:\")\n",
    "i = most_day['Count'].idxmax()\n",
    "print(i)\n",
    "\n"
   ]
  },
  {
   "cell_type": "code",
   "execution_count": 74,
   "id": "a45f2fa2-d7ef-49c8-b1bc-5ac3b5de8fb5",
   "metadata": {},
   "outputs": [
    {
     "name": "stdout",
     "output_type": "stream",
     "text": [
      "The hour of the day most rides are taken on hour: 14.00\n"
     ]
    }
   ],
   "source": [
    "#What hour of the day are most rides taken on?\n",
    "citidata['Hour of day'] = citidata['Start Time'].dt.hour\n",
    "most_hour = citidata['Hour of day'].median(axis = 0, skipna = True)\n",
    "print(\"The hour of the day most rides are taken on hour: {}0\".format(most_hour))\n"
   ]
  },
  {
   "cell_type": "code",
   "execution_count": 75,
   "id": "c974b07d-1120-4944-9e6b-2d60dbc2ca20",
   "metadata": {},
   "outputs": [
    {
     "data": {
      "text/html": [
       "<div>\n",
       "<style scoped>\n",
       "    .dataframe tbody tr th:only-of-type {\n",
       "        vertical-align: middle;\n",
       "    }\n",
       "\n",
       "    .dataframe tbody tr th {\n",
       "        vertical-align: top;\n",
       "    }\n",
       "\n",
       "    .dataframe thead th {\n",
       "        text-align: right;\n",
       "    }\n",
       "</style>\n",
       "<table border=\"1\" class=\"dataframe\">\n",
       "  <thead>\n",
       "    <tr style=\"text-align: right;\">\n",
       "      <th></th>\n",
       "      <th>Trip Duration</th>\n",
       "      <th>Age</th>\n",
       "    </tr>\n",
       "  </thead>\n",
       "  <tbody>\n",
       "    <tr>\n",
       "      <th>Trip Duration</th>\n",
       "      <td>1.000000</td>\n",
       "      <td>0.002313</td>\n",
       "    </tr>\n",
       "    <tr>\n",
       "      <th>Age</th>\n",
       "      <td>0.002313</td>\n",
       "      <td>1.000000</td>\n",
       "    </tr>\n",
       "  </tbody>\n",
       "</table>\n",
       "</div>"
      ],
      "text/plain": [
       "               Trip Duration       Age\n",
       "Trip Duration       1.000000  0.002313\n",
       "Age                 0.002313  1.000000"
      ]
     },
     "execution_count": 75,
     "metadata": {},
     "output_type": "execute_result"
    }
   ],
   "source": [
    "#Is there correlation between age and trip duration?\n",
    "citidata[[\"Trip Duration\",\"Age\"]].corr()"
   ]
  },
  {
   "cell_type": "code",
   "execution_count": 76,
   "id": "145ed3ed-f6f6-46f8-bb6f-714944c37c12",
   "metadata": {},
   "outputs": [
    {
     "name": "stdout",
     "output_type": "stream",
     "text": [
      "These are the top 10 Starting Station for CitiBike Rides:\n",
      "['Pershing Square North', 'E 17 St & Broadway', 'W 21 St & 6 Ave', 'Broadway & E 22 St', '8 Ave & W 33 St', 'Broadway & E 14 St', 'W 20 St & 11 Ave', 'W 41 St & 8 Ave', 'W 52 St & 5 Ave', 'W 31 St & 7 Ave']\n",
      " \n",
      "These are the top 10 End Station for CitiBike Rides:\n",
      "['Pershing Square North', 'E 17 St & Broadway', 'Broadway & E 22 St', 'W 21 St & 6 Ave', 'W 52 St & 5 Ave', 'W 20 St & 11 Ave', '8 Ave & W 33 St', 'Broadway & E 14 St', '8 Ave & W 31 St', 'W 41 St & 8 Ave']\n"
     ]
    }
   ],
   "source": [
    "#What are the top 10 pair of stations that our riders use as a start & stopping point?\n",
    "n = 10\n",
    "print('These are the top 10 Starting Station for CitiBike Rides:')\n",
    "print(citidata['Start Station Name'].value_counts()[:n].index.tolist())\n",
    "print(' ')\n",
    "print('These are the top 10 End Station for CitiBike Rides:')\n",
    "print(citidata['End Station Name'].value_counts()[:n].index.tolist())"
   ]
  },
  {
   "cell_type": "code",
   "execution_count": 92,
   "id": "c8c43dc4-7e97-4b53-b08f-f219158048f5",
   "metadata": {},
   "outputs": [
    {
     "name": "stdout",
     "output_type": "stream",
     "text": [
      "count    171775.000000\n",
      "mean         38.328983\n",
      "std          11.978946\n",
      "min          17.000000\n",
      "25%          29.000000\n",
      "50%          35.000000\n",
      "75%          47.000000\n",
      "max         124.000000\n",
      "Name: Age, dtype: float64\n"
     ]
    },
    {
     "data": {
      "text/plain": [
       "<AxesSubplot:>"
      ]
     },
     "execution_count": 92,
     "metadata": {},
     "output_type": "execute_result"
    },
    {
     "data": {
      "image/png": "[encoded data removed]",
      "text/plain": [
       "<Figure size 432x288 with 1 Axes>"
      ]
     },
     "metadata": {
      "needs_background": "light"
     },
     "output_type": "display_data"
    }
   ],
   "source": [
    "#Come up with your own question on the Citibike data usage and formulate a hypothesis\n",
    "only_fem = citidata.loc[citidata['Gender'] == 2]\n",
    "onlyfem = pd.DataFrame(only_fem)\n",
    "\n",
    "print(onlyfem['Age'].describe())\n",
    "onlyfem.boxplot(column=['Age'])"
   ]
  },
  {
   "cell_type": "code",
   "execution_count": 91,
   "id": "d923b9f2-680e-4140-b495-9a4e10950405",
   "metadata": {},
   "outputs": [
    {
     "name": "stdout",
     "output_type": "stream",
     "text": [
      "count    567824.000000\n",
      "mean         39.559147\n",
      "std          11.974878\n",
      "min          16.000000\n",
      "25%          30.000000\n",
      "50%          37.000000\n",
      "75%          48.000000\n",
      "max         159.000000\n",
      "Name: Age, dtype: float64\n"
     ]
    },
    {
     "data": {
      "text/plain": [
       "<AxesSubplot:>"
      ]
     },
     "execution_count": 91,
     "metadata": {},
     "output_type": "execute_result"
    },
    {
     "data": {
      "image/png": "[encoded data removed]",
      "text/plain": [
       "<Figure size 432x288 with 1 Axes>"
      ]
     },
     "metadata": {
      "needs_background": "light"
     },
     "output_type": "display_data"
    }
   ],
   "source": [
    "only_m = citidata.loc[citidata['Gender'] == 1]\n",
    "onlym = pd.DataFrame(only_m)\n",
    "\n",
    "print(onlym['Age'].describe())\n",
    "onlym.boxplot(column=['Age'])"
   ]
  },
  {
   "cell_type": "code",
   "execution_count": null,
   "id": "6f321190-a2e8-4cd2-8846-60440e12adc0",
   "metadata": {},
   "outputs": [],
   "source": []
  }
 ],
 "metadata": {
  "kernelspec": {
   "display_name": "KLASA Env",
   "language": "python",
   "name": "klasa-env"
  },
  "language_info": {
   "codemirror_mode": {
    "name": "ipython",
    "version": 3
   },
   "file_extension": ".py",
   "mimetype": "text/x-python",
   "name": "python",
   "nbconvert_exporter": "python",
   "pygments_lexer": "ipython3",
   "version": "3.7.11"
  }
 },
 "nbformat": 4,
 "nbformat_minor": 5
}
